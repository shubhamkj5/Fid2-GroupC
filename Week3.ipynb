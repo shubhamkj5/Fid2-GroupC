{
 "cells": [
  {
   "cell_type": "code",
   "execution_count": 2,
   "id": "985e2d1e",
   "metadata": {},
   "outputs": [],
   "source": [
    "import pandas"
   ]
  },
  {
   "cell_type": "code",
   "execution_count": 4,
   "id": "a36c2989",
   "metadata": {},
   "outputs": [],
   "source": [
    "data=pandas.read_csv(\"vh_data15.csv\")\n"
   ]
  },
  {
   "cell_type": "code",
   "execution_count": 9,
   "id": "b5795f31",
   "metadata": {},
   "outputs": [
    {
     "name": "stdout",
     "output_type": "stream",
     "text": [
      "<class 'pandas.core.frame.DataFrame'>\n",
      "RangeIndex: 3353 entries, 0 to 3352\n",
      "Data columns (total 42 columns):\n",
      " #   Column                     Non-Null Count  Dtype  \n",
      "---  ------                     --------------  -----  \n",
      " 0   County_Density             3336 non-null   float64\n",
      " 1   Vaccine_Trust_Index        3353 non-null   float64\n",
      " 2   Personal_Responsibility    3347 non-null   float64\n",
      " 3   Trust_Science_Apolitical   3344 non-null   float64\n",
      " 4   Trust_Science_Politicians  3345 non-null   float64\n",
      " 5   Trust_Science_Media        3346 non-null   float64\n",
      " 6   Trust_Science_Community    3346 non-null   float64\n",
      " 7   Trust_National             3349 non-null   float64\n",
      " 8   Trust_State                3349 non-null   float64\n",
      " 9   Trust_Local                3351 non-null   float64\n",
      " 10  Trust_Media                3352 non-null   float64\n",
      " 11  Perceived_Risk             3349 non-null   float64\n",
      " 12  Perceived_Network_Risk     3348 non-null   float64\n",
      " 13  Doctor_Comfort             3348 non-null   float64\n",
      " 14  Fear_Needles               3349 non-null   float64\n",
      " 15  Condition_Pregnancy        3252 non-null   float64\n",
      " 16  Condition_Asthma           3252 non-null   float64\n",
      " 17  Condition_Lung             3252 non-null   float64\n",
      " 18  Condition_Diabetes         3252 non-null   float64\n",
      " 19  Condition_Immune           3252 non-null   float64\n",
      " 20  Condition_Obesity          3252 non-null   float64\n",
      " 21  Condition_Heart            3252 non-null   float64\n",
      " 22  Condition_Organ            3252 non-null   float64\n",
      " 23  County_Cases               3336 non-null   float64\n",
      " 24  County_Cases2wk            3336 non-null   float64\n",
      " 25  Male                       3353 non-null   int64  \n",
      " 26  Race                       3353 non-null   int64  \n",
      " 27  Age                        3351 non-null   float64\n",
      " 28  PS_Index                   3353 non-null   float64\n",
      " 29  Natural_Science_Literacy   3352 non-null   float64\n",
      " 30  College_Degree             3352 non-null   float64\n",
      " 31  Pandemic_Impact            3348 non-null   float64\n",
      " 32  Pandemic_Impact_Network    3347 non-null   float64\n",
      " 33  Infected_Personal          3311 non-null   float64\n",
      " 34  Infected_Network           3352 non-null   float64\n",
      " 35  Biden                      3349 non-null   object \n",
      " 36  Trump                      3348 non-null   object \n",
      " 37  Party_ID                   3352 non-null   object \n",
      " 38  Household_Income           3348 non-null   float64\n",
      " 39  Vaccine_Required           3353 non-null   int64  \n",
      " 40  Evangelical                3352 non-null   float64\n",
      " 41  Vaccine_Hesitant           3353 non-null   int64  \n",
      "dtypes: float64(35), int64(4), object(3)\n",
      "memory usage: 1.1+ MB\n"
     ]
    }
   ],
   "source": [
    "data.info()"
   ]
  },
  {
   "cell_type": "code",
   "execution_count": null,
   "id": "db758293",
   "metadata": {},
   "outputs": [],
   "source": []
  }
 ],
 "metadata": {
  "kernelspec": {
   "display_name": "Python 3 (ipykernel)",
   "language": "python",
   "name": "python3"
  },
  "language_info": {
   "codemirror_mode": {
    "name": "ipython",
    "version": 3
   },
   "file_extension": ".py",
   "mimetype": "text/x-python",
   "name": "python",
   "nbconvert_exporter": "python",
   "pygments_lexer": "ipython3",
   "version": "3.8.13"
  }
 },
 "nbformat": 4,
 "nbformat_minor": 5
}
